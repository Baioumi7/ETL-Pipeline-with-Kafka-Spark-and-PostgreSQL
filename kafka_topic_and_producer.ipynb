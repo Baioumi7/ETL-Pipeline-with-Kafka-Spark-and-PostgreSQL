{
 "cells": [
  {
   "cell_type": "code",
   "execution_count": 1,
   "id": "a6c4e603",
   "metadata": {},
   "outputs": [
    {
     "name": "stdout",
     "output_type": "stream",
     "text": [
      "Requirement already satisfied: confluent_kafka in /home/devu/anaconda3/lib/python3.11/site-packages (2.4.0)\r\n"
     ]
    }
   ],
   "source": [
    "!pip install confluent_kafka"
   ]
  },
  {
   "cell_type": "code",
   "execution_count": 2,
   "id": "bac2e36d",
   "metadata": {},
   "outputs": [],
   "source": [
    "from confluent_kafka.admin import AdminClient,NewTopic"
   ]
  },
  {
   "cell_type": "code",
   "execution_count": 3,
   "id": "a323da3f",
   "metadata": {},
   "outputs": [],
   "source": [
    "\n",
    "ac = AdminClient({'bootstrap.servers': 'localhost'})"
   ]
  },
  {
   "cell_type": "code",
   "execution_count": 4,
   "id": "ed0414a1",
   "metadata": {},
   "outputs": [],
   "source": [
    "topic=NewTopic('mytopic',num_partitions=3,replication_factor=1)"
   ]
  },
  {
   "cell_type": "code",
   "execution_count": 5,
   "id": "053de56a",
   "metadata": {},
   "outputs": [
    {
     "data": {
      "text/plain": [
       "NewTopic(topic=mytopic,num_partitions=3)"
      ]
     },
     "execution_count": 5,
     "metadata": {},
     "output_type": "execute_result"
    }
   ],
   "source": [
    "topic"
   ]
  },
  {
   "cell_type": "code",
   "execution_count": 6,
   "id": "2fe44bf5",
   "metadata": {},
   "outputs": [],
   "source": [
    "fs=ac.create_topics([topic])"
   ]
  },
  {
   "cell_type": "code",
   "execution_count": 7,
   "id": "b803c1f3",
   "metadata": {},
   "outputs": [
    {
     "data": {
      "text/plain": [
       "dict_values([<Future at 0x7c15fc47a150 state=finished raised KafkaException>])"
      ]
     },
     "execution_count": 7,
     "metadata": {},
     "output_type": "execute_result"
    }
   ],
   "source": [
    "fs.values()"
   ]
  },
  {
   "cell_type": "code",
   "execution_count": 8,
   "id": "95a4c730",
   "metadata": {},
   "outputs": [],
   "source": [
    "from confluent_kafka import Producer\n",
    "import requests\n",
    "import json\n"
   ]
  },
  {
   "cell_type": "code",
   "execution_count": 9,
   "id": "9730df34",
   "metadata": {},
   "outputs": [],
   "source": [
    "conf={'bootstrap.servers':\"localhost:9092\"}"
   ]
  },
  {
   "cell_type": "code",
   "execution_count": 10,
   "id": "c5f23596",
   "metadata": {},
   "outputs": [],
   "source": [
    "producer=Producer(conf)"
   ]
  },
  {
   "cell_type": "code",
   "execution_count": 11,
   "id": "2471a7c9",
   "metadata": {},
   "outputs": [],
   "source": [
    "api_url=\"https://randomuser.me/api/\""
   ]
  },
  {
   "cell_type": "code",
   "execution_count": 12,
   "id": "ff340171",
   "metadata": {},
   "outputs": [],
   "source": [
    "response=requests.get(api_url)\n",
    "data_json=response.json()"
   ]
  },
  {
   "cell_type": "code",
   "execution_count": 13,
   "id": "2dd31541",
   "metadata": {},
   "outputs": [],
   "source": [
    "output_data = {\"results\": []}"
   ]
  },
  {
   "cell_type": "code",
   "execution_count": 14,
   "id": "dad4b580",
   "metadata": {},
   "outputs": [],
   "source": [
    "user_data=data_json['results']"
   ]
  },
  {
   "cell_type": "code",
   "execution_count": 15,
   "id": "3ffafa5e",
   "metadata": {},
   "outputs": [],
   "source": [
    "for user_data in user_data:\n",
    "    user_dict = {\n",
    "        \"name\": f\"{user_data['name']['first']} {user_data['name']['last']}\",\n",
    "        \"id\": user_data[\"id\"][\"value\"],\n",
    "        \"age\": user_data[\"dob\"][\"age\"],\n",
    "        \"gender\": user_data[\"gender\"],\n",
    "        \"place\": f\"{user_data['location']['city']}, {user_data['location']['state']}\",\n",
    "        \"country\": user_data['location']['country'],\n",
    "        \"email\": user_data[\"email\"],\n",
    "        \"phone number\": user_data[\"phone\"]\n",
    "    }\n",
    "\n",
    "    output_data[\"results\"].append(user_dict)\n",
    "    \n",
    "\n"
   ]
  },
  {
   "cell_type": "code",
   "execution_count": 16,
   "id": "f73932d7",
   "metadata": {},
   "outputs": [],
   "source": [
    "user_json=json.dumps(user_dict)"
   ]
  },
  {
   "cell_type": "code",
   "execution_count": 17,
   "id": "cb47e0cb",
   "metadata": {},
   "outputs": [],
   "source": [
    "producer.produce('mytopic',value=user_json.encode('utf-8'))"
   ]
  },
  {
   "cell_type": "code",
   "execution_count": 18,
   "id": "d510a7ae",
   "metadata": {},
   "outputs": [
    {
     "data": {
      "text/plain": [
       "0"
      ]
     },
     "execution_count": 18,
     "metadata": {},
     "output_type": "execute_result"
    }
   ],
   "source": [
    "producer.flush()"
   ]
  },
  {
   "cell_type": "code",
   "execution_count": 19,
   "id": "4342b148",
   "metadata": {},
   "outputs": [],
   "source": [
    "json_output = json.dumps(output_data, indent=4)"
   ]
  },
  {
   "cell_type": "code",
   "execution_count": 20,
   "id": "70a95aea",
   "metadata": {},
   "outputs": [
    {
     "name": "stdout",
     "output_type": "stream",
     "text": [
      "{\n",
      "    \"results\": [\n",
      "        {\n",
      "            \"name\": \"Stefanie Marchand\",\n",
      "            \"id\": \"756.1463.1431.94\",\n",
      "            \"age\": 51,\n",
      "            \"gender\": \"female\",\n",
      "            \"place\": \"Bennwil, Nidwalden\",\n",
      "            \"country\": \"Switzerland\",\n",
      "            \"email\": \"stefanie.marchand@example.com\",\n",
      "            \"phone number\": \"077 992 59 36\"\n",
      "        }\n",
      "    ]\n",
      "}\n"
     ]
    }
   ],
   "source": [
    "print(json_output)"
   ]
  },
  {
   "cell_type": "code",
   "execution_count": null,
   "id": "d1e4ba20",
   "metadata": {},
   "outputs": [],
   "source": []
  },
  {
   "cell_type": "code",
   "execution_count": null,
   "id": "d615dad8",
   "metadata": {},
   "outputs": [],
   "source": []
  },
  {
   "cell_type": "code",
   "execution_count": null,
   "id": "c3a302be",
   "metadata": {},
   "outputs": [],
   "source": []
  },
  {
   "cell_type": "code",
   "execution_count": null,
   "id": "576cce5b",
   "metadata": {},
   "outputs": [],
   "source": []
  },
  {
   "cell_type": "code",
   "execution_count": null,
   "id": "dbc68eff",
   "metadata": {},
   "outputs": [],
   "source": []
  }
 ],
 "metadata": {
  "kernelspec": {
   "display_name": "Python 3 (ipykernel)",
   "language": "python",
   "name": "python3"
  },
  "language_info": {
   "codemirror_mode": {
    "name": "ipython",
    "version": 3
   },
   "file_extension": ".py",
   "mimetype": "text/x-python",
   "name": "python",
   "nbconvert_exporter": "python",
   "pygments_lexer": "ipython3",
   "version": "3.11.5"
  }
 },
 "nbformat": 4,
 "nbformat_minor": 5
}
