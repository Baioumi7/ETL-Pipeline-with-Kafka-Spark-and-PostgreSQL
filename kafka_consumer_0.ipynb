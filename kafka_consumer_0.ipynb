{
 "cells": [
  {
   "cell_type": "code",
   "execution_count": 1,
   "id": "1dcccaf7",
   "metadata": {},
   "outputs": [],
   "source": [
    "from confluent_kafka import Consumer"
   ]
  },
  {
   "cell_type": "code",
   "execution_count": 2,
   "id": "0946cae8",
   "metadata": {},
   "outputs": [],
   "source": [
    "consumer=Consumer({\n",
    "    'bootstrap.servers':'localhost',\n",
    "    'group.id':'G1',\n",
    "    'auto.offset.reset':'latest'\n",
    "})"
   ]
  },
  {
   "cell_type": "code",
   "execution_count": 3,
   "id": "691a35f6",
   "metadata": {},
   "outputs": [],
   "source": [
    "consumer.subscribe(['mytopic'])"
   ]
  },
  {
   "cell_type": "code",
   "execution_count": null,
   "id": "411510f7",
   "metadata": {},
   "outputs": [
    {
     "name": "stdout",
     "output_type": "stream",
     "text": [
      "recieved messages:{\"name\": \"Stefanie Marchand\", \"id\": \"756.1463.1431.94\", \"age\": 51, \"gender\": \"female\", \"place\": \"Bennwil, Nidwalden\", \"country\": \"Switzerland\", \"email\": \"stefanie.marchand@example.com\", \"phone number\": \"077 992 59 36\"}\n"
     ]
    }
   ],
   "source": [
    "while True:\n",
    "    msg=consumer.poll()\n",
    "    \n",
    "    if msg is None:\n",
    "        print(\"No message...cont...!!!\")\n",
    "        continue\n",
    "    if msg.error():\n",
    "        print(\"Consumer error: {}\".format(msg.error()))\n",
    "        continue\n",
    "    print('recieved messages:{}'.format(msg.value().decode('utf-8')))"
   ]
  },
  {
   "cell_type": "code",
   "execution_count": null,
   "id": "4d659ae8",
   "metadata": {},
   "outputs": [],
   "source": []
  },
  {
   "cell_type": "code",
   "execution_count": null,
   "id": "cc0b7aeb",
   "metadata": {},
   "outputs": [],
   "source": []
  },
  {
   "cell_type": "code",
   "execution_count": null,
   "id": "df210d96",
   "metadata": {},
   "outputs": [],
   "source": []
  },
  {
   "cell_type": "code",
   "execution_count": null,
   "id": "e0ecf5e4",
   "metadata": {},
   "outputs": [],
   "source": []
  }
 ],
 "metadata": {
  "kernelspec": {
   "display_name": "Python 3 (ipykernel)",
   "language": "python",
   "name": "python3"
  },
  "language_info": {
   "codemirror_mode": {
    "name": "ipython",
    "version": 3
   },
   "file_extension": ".py",
   "mimetype": "text/x-python",
   "name": "python",
   "nbconvert_exporter": "python",
   "pygments_lexer": "ipython3",
   "version": "3.11.5"
  }
 },
 "nbformat": 4,
 "nbformat_minor": 5
}
